{
 "cells": [
  {
   "cell_type": "markdown",
   "id": "cb06dc81",
   "metadata": {},
   "source": [
    "# This code covers various data manipulation operations using the Pandas library, including selecting columns, filtering rows, sorting, adding and removing columns, grouping and aggregation, handling missing values, merging DataFrames, and creating pivot tables. Each section is accompanied by comments explaining the purpose and functionality of the code."
   ]
  },
  {
   "cell_type": "code",
   "execution_count": 1,
   "id": "a8b5c953",
   "metadata": {},
   "outputs": [],
   "source": [
    "import pandas as pd"
   ]
  },
  {
   "cell_type": "markdown",
   "id": "4509b514",
   "metadata": {},
   "source": [
    "# Creating a DataFrame"
   ]
  },
  {
   "cell_type": "code",
   "execution_count": null,
   "id": "f6c971f4",
   "metadata": {},
   "outputs": [],
   "source": [
    "# Create a DataFrame\n",
    "data = {'Name': ['John', 'Jane', 'Mike', 'Emily'],\n",
    "        'Age': [25, 30, 28, 32],\n",
    "        'City': ['New York', 'London', 'Paris', 'Sydney']}\n",
    "df = pd.DataFrame(data)\n",
    "print(\"DataFrame:\")\n",
    "print(df)"
   ]
  },
  {
   "cell_type": "markdown",
   "id": "acd32dd0",
   "metadata": {},
   "source": [
    "# Selecting columns"
   ]
  },
  {
   "cell_type": "code",
   "execution_count": null,
   "id": "293926d1",
   "metadata": {},
   "outputs": [],
   "source": [
    "# Select a single column\n",
    "name_column = df['Name']\n",
    "print(\"\\nName Column:\")\n",
    "print(name_column)"
   ]
  },
  {
   "cell_type": "code",
   "execution_count": null,
   "id": "1186f4ac",
   "metadata": {},
   "outputs": [],
   "source": [
    "# Select multiple columns\n",
    "name_age_columns = df[['Name', 'Age']]\n",
    "print(\"\\nName and Age Columns:\")\n",
    "print(name_age_columns)"
   ]
  },
  {
   "cell_type": "markdown",
   "id": "52c2698c",
   "metadata": {},
   "source": [
    "# Filtering rows"
   ]
  },
  {
   "cell_type": "code",
   "execution_count": null,
   "id": "e1d56ae9",
   "metadata": {},
   "outputs": [],
   "source": [
    "# Filter rows based on a condition\n",
    "filtered_df = df[df['Age'] > 25]\n",
    "print(\"\\nFiltered DataFrame:\")\n",
    "print(filtered_df)"
   ]
  },
  {
   "cell_type": "markdown",
   "id": "1f5c90a9",
   "metadata": {},
   "source": [
    "# Sorting DataFrame"
   ]
  },
  {
   "cell_type": "code",
   "execution_count": null,
   "id": "db7b13c1",
   "metadata": {},
   "outputs": [],
   "source": [
    "# Sort DataFrame by a column\n",
    "sorted_df = df.sort_values('Age')\n",
    "print(\"\\nSorted DataFrame:\")\n",
    "print(sorted_df)"
   ]
  },
  {
   "cell_type": "markdown",
   "id": "ce5f2131",
   "metadata": {},
   "source": [
    "# Adding and removing columns\n"
   ]
  },
  {
   "cell_type": "code",
   "execution_count": null,
   "id": "412d9bfa",
   "metadata": {},
   "outputs": [],
   "source": [
    "# Add a new column\n",
    "df['Gender'] = ['Male', 'Female', 'Male', 'Female']\n",
    "print(\"\\nDataFrame with new column:\")\n",
    "print(df)"
   ]
  },
  {
   "cell_type": "code",
   "execution_count": null,
   "id": "206b590b",
   "metadata": {},
   "outputs": [],
   "source": [
    "# Remove a column\n",
    "df = df.drop('City', axis=1)\n",
    "print(\"\\nDataFrame with column removed:\")\n",
    "print(df)"
   ]
  },
  {
   "cell_type": "markdown",
   "id": "2d2481de",
   "metadata": {},
   "source": [
    "# Grouping and aggregation"
   ]
  },
  {
   "cell_type": "code",
   "execution_count": null,
   "id": "7fb58f7f",
   "metadata": {},
   "outputs": [],
   "source": [
    "# Group DataFrame by a column and calculate mean\n",
    "grouped_df = df.groupby('Gender').mean()\n",
    "print(\"\\nGrouped DataFrame:\")\n",
    "print(grouped_df)"
   ]
  },
  {
   "cell_type": "markdown",
   "id": "9924c6c9",
   "metadata": {},
   "source": [
    "# Handling missing values"
   ]
  },
  {
   "cell_type": "code",
   "execution_count": null,
   "id": "13423016",
   "metadata": {},
   "outputs": [],
   "source": [
    "# Create a DataFrame with missing values\n",
    "data = {'Name': ['John', 'Jane', 'Mike', 'Emily'],\n",
    "        'Age': [25, None, 28, 32],\n",
    "        'City': ['New York', 'London', None, 'Sydney']}\n",
    "df = pd.DataFrame(data)\n",
    "print(\"\\nDataFrame with missing values:\")\n",
    "print(df)"
   ]
  },
  {
   "cell_type": "code",
   "execution_count": null,
   "id": "51ea7642",
   "metadata": {},
   "outputs": [],
   "source": [
    "# Check for missing values\n",
    "print(\"\\nMissing Values:\")\n",
    "print(df.isnull().sum())"
   ]
  },
  {
   "cell_type": "code",
   "execution_count": null,
   "id": "4d1f43b5",
   "metadata": {},
   "outputs": [],
   "source": [
    "# Fill missing values with a specific value\n",
    "df_filled = df.fillna(0)\n",
    "print(\"\\nDataFrame with filled missing values:\")\n",
    "print(df_filled)"
   ]
  },
  {
   "cell_type": "markdown",
   "id": "b0b25bb7",
   "metadata": {},
   "source": [
    "# Merging DataFrames"
   ]
  },
  {
   "cell_type": "code",
   "execution_count": null,
   "id": "6654d4fb",
   "metadata": {},
   "outputs": [],
   "source": [
    "# Create two DataFrames\n",
    "data1 = {'Name': ['John', 'Jane', 'Mike', 'Emily'],\n",
    "         'Age': [25, 30, 28, 32]}\n",
    "data2 = {'Name': ['John', 'Jane', 'Mike', 'Emily'],\n",
    "         'City': ['New York', 'London', 'Paris', 'Sydney']}\n",
    "df1 = pd.DataFrame(data1)\n",
    "df2 = pd.DataFrame(data2)"
   ]
  },
  {
   "cell_type": "code",
   "execution_count": null,
   "id": "71a33b58",
   "metadata": {},
   "outputs": [],
   "source": [
    "# Merge the DataFrames\n",
    "merged_df = pd.merge(df1, df2, on='Name')\n",
    "print(\"\\nMerged DataFrame:\")\n",
    "print(merged_df)"
   ]
  },
  {
   "cell_type": "markdown",
   "id": "eadd131d",
   "metadata": {},
   "source": [
    "# Pivot Tables\n"
   ]
  },
  {
   "cell_type": "code",
   "execution_count": null,
   "id": "2c88a789",
   "metadata": {},
   "outputs": [],
   "source": [
    "# Create a DataFrame\n",
    "data = {'Name': ['John', 'Jane', 'Mike', 'Emily', 'John', 'Jane', 'Mike', 'Emily'],\n",
    "        'Subject': ['Math', 'Math', 'Math', 'Math', 'Science', 'Science', 'Science', 'Science'],\n",
    "        'Score': [85, 90, 92, 88, 78, 82, 80, 85]}\n",
    "df = pd.DataFrame(data)"
   ]
  },
  {
   "cell_type": "code",
   "execution_count": null,
   "id": "b22290db",
   "metadata": {},
   "outputs": [],
   "source": [
    "# Create a pivot table\n",
    "pivot_table = df.pivot_table(index='Name', columns='Subject', values='Score', aggfunc='mean')\n",
    "print(\"\\nPivot Table:\")\n",
    "print(pivot_table)"
   ]
  }
 ],
 "metadata": {
  "kernelspec": {
   "display_name": "Python 3 (ipykernel)",
   "language": "python",
   "name": "python3"
  },
  "language_info": {
   "codemirror_mode": {
    "name": "ipython",
    "version": 3
   },
   "file_extension": ".py",
   "mimetype": "text/x-python",
   "name": "python",
   "nbconvert_exporter": "python",
   "pygments_lexer": "ipython3",
   "version": "3.9.13"
  }
 },
 "nbformat": 4,
 "nbformat_minor": 5
}
