{
 "cells": [
  {
   "cell_type": "markdown",
   "id": "ec02595c",
   "metadata": {},
   "source": [
    "# This code covers various data analysis techniques using the Pandas library, including reading and inspecting data, descriptive statistics, data aggregation, data filtering, data sorting, data merging, data visualization, data cleaning, handling missing values, feature engineering, feature selection, and machine learning."
   ]
  },
  {
   "cell_type": "code",
   "execution_count": null,
   "id": "b64add0a",
   "metadata": {},
   "outputs": [],
   "source": [
    "import pandas as pd"
   ]
  },
  {
   "cell_type": "markdown",
   "id": "44b42606",
   "metadata": {},
   "source": [
    "# Reading and inspecting data"
   ]
  },
  {
   "cell_type": "code",
   "execution_count": null,
   "id": "0a3d7cfb",
   "metadata": {},
   "outputs": [],
   "source": [
    "# Read data from a CSV file\n",
    "df = pd.read_csv('data.csv')"
   ]
  },
  {
   "cell_type": "code",
   "execution_count": null,
   "id": "092c60b0",
   "metadata": {},
   "outputs": [],
   "source": [
    "# Display the first few rows of the DataFrame\n",
    "print(\"First few rows:\")\n",
    "print(df.head())"
   ]
  },
  {
   "cell_type": "code",
   "execution_count": null,
   "id": "99deba94",
   "metadata": {},
   "outputs": [],
   "source": [
    "# Display basic information about the DataFrame\n",
    "print(\"\\nData information:\")\n",
    "print(df.info())"
   ]
  },
  {
   "cell_type": "markdown",
   "id": "12d80a1d",
   "metadata": {},
   "source": [
    "# Descriptive statistics\n"
   ]
  },
  {
   "cell_type": "code",
   "execution_count": null,
   "id": "f24e1ae3",
   "metadata": {},
   "outputs": [],
   "source": [
    "# Calculate descriptive statistics of numeric columns\n",
    "print(\"\\nDescriptive statistics:\")\n",
    "print(df.describe())"
   ]
  },
  {
   "cell_type": "markdown",
   "id": "0bed8025",
   "metadata": {},
   "source": [
    "# Data aggregation"
   ]
  },
  {
   "cell_type": "code",
   "execution_count": null,
   "id": "0751a55d",
   "metadata": {},
   "outputs": [],
   "source": [
    "# Group data by a column and calculate the mean of another column\n",
    "grouped_data = df.groupby('Country')['Salary'].mean()\n",
    "print(\"\\nGrouped data:\")\n",
    "print(grouped_data)"
   ]
  },
  {
   "cell_type": "markdown",
   "id": "78862842",
   "metadata": {},
   "source": [
    "# Data filtering"
   ]
  },
  {
   "cell_type": "code",
   "execution_count": null,
   "id": "da587314",
   "metadata": {},
   "outputs": [],
   "source": [
    "# Filter data based on a condition\n",
    "filtered_data = df[df['Salary'] > 50000]\n",
    "print(\"\\nFiltered data:\")\n",
    "print(filtered_data)"
   ]
  },
  {
   "cell_type": "markdown",
   "id": "54ef852e",
   "metadata": {},
   "source": [
    "# Data sorting"
   ]
  },
  {
   "cell_type": "code",
   "execution_count": null,
   "id": "993a8253",
   "metadata": {},
   "outputs": [],
   "source": [
    "# Sort data by a column\n",
    "sorted_data = df.sort_values('Salary', ascending=False)\n",
    "print(\"\\nSorted data:\")\n",
    "print(sorted_data)"
   ]
  },
  {
   "cell_type": "markdown",
   "id": "3bd04728",
   "metadata": {},
   "source": [
    "# Data merging"
   ]
  },
  {
   "cell_type": "code",
   "execution_count": null,
   "id": "beb10ecd",
   "metadata": {},
   "outputs": [],
   "source": [
    "# Read another DataFrame from a CSV file\n",
    "df2 = pd.read_csv('data2.csv')"
   ]
  },
  {
   "cell_type": "code",
   "execution_count": null,
   "id": "fe959281",
   "metadata": {},
   "outputs": [],
   "source": [
    "df2.head()"
   ]
  },
  {
   "cell_type": "code",
   "execution_count": null,
   "id": "24a8abbc",
   "metadata": {},
   "outputs": [],
   "source": [
    "# Merge two DataFrames based on a common column\n",
    "merged_data = pd.merge(df, df2, on='Country')\n",
    "print(\"\\nMerged data:\")\n",
    "print(merged_data)"
   ]
  },
  {
   "cell_type": "markdown",
   "id": "ce450169",
   "metadata": {},
   "source": [
    "# Data visualization\n"
   ]
  },
  {
   "cell_type": "code",
   "execution_count": null,
   "id": "acfad9d1",
   "metadata": {},
   "outputs": [],
   "source": [
    "import matplotlib.pyplot as plt\n",
    "# Create a bar plot of a column\n",
    "df['Salary'].plot(kind='bar')\n",
    "plt.title(\"Bar Plot\")\n",
    "plt.xlabel(\"Categories\")\n",
    "plt.ylabel(\"Values\")\n",
    "plt.show()"
   ]
  },
  {
   "cell_type": "code",
   "execution_count": null,
   "id": "1073255a",
   "metadata": {},
   "outputs": [],
   "source": [
    "# Create a scatter plot of two columns\n",
    "df.plot(x='Salary', y='Age', kind='scatter')\n",
    "plt.title(\"Scatter Plot\")\n",
    "plt.xlabel(\"Value\")\n",
    "plt.ylabel(\"Count\")\n",
    "plt.show()"
   ]
  },
  {
   "cell_type": "markdown",
   "id": "3a3b4743",
   "metadata": {},
   "source": [
    "# Data cleaning"
   ]
  },
  {
   "cell_type": "code",
   "execution_count": null,
   "id": "32d6832a",
   "metadata": {},
   "outputs": [],
   "source": [
    "# Remove duplicate rows from the DataFrame\n",
    "df_cleaned = df.drop_duplicates()\n",
    "print(\"\\nCleaned data:\")\n",
    "print(df_cleaned)"
   ]
  },
  {
   "cell_type": "markdown",
   "id": "26d47ff4",
   "metadata": {},
   "source": [
    "# Handling missing values"
   ]
  },
  {
   "cell_type": "code",
   "execution_count": null,
   "id": "bb033076",
   "metadata": {},
   "outputs": [],
   "source": [
    "# Check for missing values in the DataFrame\n",
    "print(\"\\nMissing values:\")\n",
    "print(df.isnull().sum())"
   ]
  },
  {
   "cell_type": "code",
   "execution_count": null,
   "id": "a7e7da14",
   "metadata": {},
   "outputs": [],
   "source": [
    "# Fill missing values with a specific value or strategy\n",
    "df_filled = df.fillna(0)\n",
    "print(\"\\nFilled data:\")\n",
    "print(df_filled)"
   ]
  },
  {
   "cell_type": "markdown",
   "id": "db23c5bd",
   "metadata": {},
   "source": [
    "# Feature engineering"
   ]
  },
  {
   "cell_type": "code",
   "execution_count": null,
   "id": "b05fd53e",
   "metadata": {},
   "outputs": [],
   "source": [
    "# Create a new column based on existing columns\n",
    "df['NewColumn'] = df['Age'] + df['Salary']\n",
    "print(\"\\nDataFrame with new column:\")\n",
    "print(df)"
   ]
  },
  {
   "cell_type": "markdown",
   "id": "dcd5ea8b",
   "metadata": {},
   "source": [
    "# Feature selection"
   ]
  },
  {
   "cell_type": "code",
   "execution_count": null,
   "id": "3526d93d",
   "metadata": {},
   "outputs": [],
   "source": [
    "# Select specific columns from the DataFrame\n",
    "selected_columns = df[['Salary', 'Age']]\n",
    "print(\"\\nSelected columns:\")\n",
    "print(selected_columns)"
   ]
  }
 ],
 "metadata": {
  "kernelspec": {
   "display_name": "Python 3 (ipykernel)",
   "language": "python",
   "name": "python3"
  },
  "language_info": {
   "codemirror_mode": {
    "name": "ipython",
    "version": 3
   },
   "file_extension": ".py",
   "mimetype": "text/x-python",
   "name": "python",
   "nbconvert_exporter": "python",
   "pygments_lexer": "ipython3",
   "version": "3.9.13"
  }
 },
 "nbformat": 4,
 "nbformat_minor": 5
}
